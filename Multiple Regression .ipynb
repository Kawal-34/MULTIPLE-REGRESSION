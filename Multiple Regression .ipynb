{
 "cells": [
  {
   "cell_type": "code",
   "execution_count": 11,
   "id": "282c945a",
   "metadata": {},
   "outputs": [],
   "source": [
    "import pandas as pd"
   ]
  },
  {
   "cell_type": "code",
   "execution_count": 12,
   "id": "74793d96",
   "metadata": {},
   "outputs": [],
   "source": [
    "data = pd.read_excel(r'C:\\Users\\KAWALJEET\\Downloads\\SampleSuperstorei.xlsx')"
   ]
  },
  {
   "cell_type": "code",
   "execution_count": 13,
   "id": "12602e97",
   "metadata": {},
   "outputs": [
    {
     "data": {
      "text/plain": [
       "<bound method NDFrame.head of           Ship Mode    Segment        Country             City       State  \\\n",
       "0      Second Class   Consumer  United States        Henderson    Kentucky   \n",
       "1      Second Class   Consumer  United States        Henderson    Kentucky   \n",
       "2    Standard Class   Consumer  United States  Fort Lauderdale     Florida   \n",
       "3    Standard Class   Consumer  United States      Los Angeles  California   \n",
       "4    Standard Class   Consumer  United States      Los Angeles  California   \n",
       "..              ...        ...            ...              ...         ...   \n",
       "244        Same Day  Corporate  United States    Coral Springs     Florida   \n",
       "245        Same Day  Corporate  United States    Coral Springs     Florida   \n",
       "246  Standard Class   Consumer  United States          Houston       Texas   \n",
       "247  Standard Class  Corporate  United States           Denver    Colorado   \n",
       "248  Standard Class  Corporate  United States           Denver    Colorado   \n",
       "\n",
       "     Postal Code   Region   Category  Bookcases  Chairs  Tables  Furnishings  \\\n",
       "0          42420    South  Furniture          1       0       0            0   \n",
       "1          42420    South  Furniture          0       1       0            0   \n",
       "2          33311    South  Furniture          0       0       1            0   \n",
       "3          90032     West  Furniture          0       0       0            1   \n",
       "4          90032     West  Furniture          0       0       1            0   \n",
       "..           ...      ...        ...        ...     ...     ...          ...   \n",
       "244        33065    South  Furniture          0       0       0            1   \n",
       "245        33065    South  Furniture          0       0       0            1   \n",
       "246        77041  Central  Furniture          0       1       0            0   \n",
       "247        80219     West  Furniture          0       1       0            0   \n",
       "248        80219     West  Furniture          0       1       0            0   \n",
       "\n",
       "         Sales  Quantity  Discount    Profit  \n",
       "0     261.9600         2         0   41.9136  \n",
       "1     731.9400         3         0  219.5820  \n",
       "2     957.5775         5        45 -383.0310  \n",
       "3      48.8600         7         0   14.1694  \n",
       "4    1706.1840         9        20   85.3092  \n",
       "..         ...       ...       ...       ...  \n",
       "244    15.7120         4        20    2.5532  \n",
       "245    55.9680         1        20   -2.0988  \n",
       "246    95.9840         4        30   -4.1136  \n",
       "247   544.0080         3        20   40.8006  \n",
       "248   854.3520         3        20   10.6794  \n",
       "\n",
       "[249 rows x 16 columns]>"
      ]
     },
     "execution_count": 13,
     "metadata": {},
     "output_type": "execute_result"
    }
   ],
   "source": [
    "data.head"
   ]
  },
  {
   "cell_type": "code",
   "execution_count": 4,
   "id": "f8e34d1f",
   "metadata": {},
   "outputs": [
    {
     "data": {
      "text/html": [
       "<div>\n",
       "<style scoped>\n",
       "    .dataframe tbody tr th:only-of-type {\n",
       "        vertical-align: middle;\n",
       "    }\n",
       "\n",
       "    .dataframe tbody tr th {\n",
       "        vertical-align: top;\n",
       "    }\n",
       "\n",
       "    .dataframe thead th {\n",
       "        text-align: right;\n",
       "    }\n",
       "</style>\n",
       "<table border=\"1\" class=\"dataframe\">\n",
       "  <thead>\n",
       "    <tr style=\"text-align: right;\">\n",
       "      <th></th>\n",
       "      <th>Postal Code</th>\n",
       "      <th>Bookcases</th>\n",
       "      <th>Chairs</th>\n",
       "      <th>Tables</th>\n",
       "      <th>Furnishings</th>\n",
       "      <th>Sales</th>\n",
       "      <th>Quantity</th>\n",
       "      <th>Discount</th>\n",
       "      <th>Profit</th>\n",
       "    </tr>\n",
       "  </thead>\n",
       "  <tbody>\n",
       "    <tr>\n",
       "      <th>count</th>\n",
       "      <td>249.000000</td>\n",
       "      <td>249.000000</td>\n",
       "      <td>249.000000</td>\n",
       "      <td>249.000000</td>\n",
       "      <td>249.000000</td>\n",
       "      <td>249.000000</td>\n",
       "      <td>249.000000</td>\n",
       "      <td>249.000000</td>\n",
       "      <td>249.000000</td>\n",
       "    </tr>\n",
       "    <tr>\n",
       "      <th>mean</th>\n",
       "      <td>52844.779116</td>\n",
       "      <td>0.092369</td>\n",
       "      <td>0.285141</td>\n",
       "      <td>0.164659</td>\n",
       "      <td>0.457831</td>\n",
       "      <td>391.117068</td>\n",
       "      <td>3.899598</td>\n",
       "      <td>16.959839</td>\n",
       "      <td>1.483102</td>\n",
       "    </tr>\n",
       "    <tr>\n",
       "      <th>std</th>\n",
       "      <td>31294.697804</td>\n",
       "      <td>0.290130</td>\n",
       "      <td>0.452391</td>\n",
       "      <td>0.371619</td>\n",
       "      <td>0.499222</td>\n",
       "      <td>490.115006</td>\n",
       "      <td>2.444950</td>\n",
       "      <td>17.574679</td>\n",
       "      <td>172.709041</td>\n",
       "    </tr>\n",
       "    <tr>\n",
       "      <th>min</th>\n",
       "      <td>1841.000000</td>\n",
       "      <td>0.000000</td>\n",
       "      <td>0.000000</td>\n",
       "      <td>0.000000</td>\n",
       "      <td>0.000000</td>\n",
       "      <td>2.328000</td>\n",
       "      <td>1.000000</td>\n",
       "      <td>0.000000</td>\n",
       "      <td>-1665.052200</td>\n",
       "    </tr>\n",
       "    <tr>\n",
       "      <th>25%</th>\n",
       "      <td>22153.000000</td>\n",
       "      <td>0.000000</td>\n",
       "      <td>0.000000</td>\n",
       "      <td>0.000000</td>\n",
       "      <td>0.000000</td>\n",
       "      <td>53.340000</td>\n",
       "      <td>2.000000</td>\n",
       "      <td>0.000000</td>\n",
       "      <td>-8.579400</td>\n",
       "    </tr>\n",
       "    <tr>\n",
       "      <th>50%</th>\n",
       "      <td>48227.000000</td>\n",
       "      <td>0.000000</td>\n",
       "      <td>0.000000</td>\n",
       "      <td>0.000000</td>\n",
       "      <td>0.000000</td>\n",
       "      <td>207.846000</td>\n",
       "      <td>3.000000</td>\n",
       "      <td>20.000000</td>\n",
       "      <td>10.909600</td>\n",
       "    </tr>\n",
       "    <tr>\n",
       "      <th>75%</th>\n",
       "      <td>84057.000000</td>\n",
       "      <td>0.000000</td>\n",
       "      <td>1.000000</td>\n",
       "      <td>0.000000</td>\n",
       "      <td>1.000000</td>\n",
       "      <td>542.646000</td>\n",
       "      <td>5.000000</td>\n",
       "      <td>20.000000</td>\n",
       "      <td>40.542600</td>\n",
       "    </tr>\n",
       "    <tr>\n",
       "      <th>max</th>\n",
       "      <td>98661.000000</td>\n",
       "      <td>1.000000</td>\n",
       "      <td>1.000000</td>\n",
       "      <td>1.000000</td>\n",
       "      <td>1.000000</td>\n",
       "      <td>3083.430000</td>\n",
       "      <td>14.000000</td>\n",
       "      <td>60.000000</td>\n",
       "      <td>585.552000</td>\n",
       "    </tr>\n",
       "  </tbody>\n",
       "</table>\n",
       "</div>"
      ],
      "text/plain": [
       "        Postal Code   Bookcases      Chairs      Tables  Furnishings  \\\n",
       "count    249.000000  249.000000  249.000000  249.000000   249.000000   \n",
       "mean   52844.779116    0.092369    0.285141    0.164659     0.457831   \n",
       "std    31294.697804    0.290130    0.452391    0.371619     0.499222   \n",
       "min     1841.000000    0.000000    0.000000    0.000000     0.000000   \n",
       "25%    22153.000000    0.000000    0.000000    0.000000     0.000000   \n",
       "50%    48227.000000    0.000000    0.000000    0.000000     0.000000   \n",
       "75%    84057.000000    0.000000    1.000000    0.000000     1.000000   \n",
       "max    98661.000000    1.000000    1.000000    1.000000     1.000000   \n",
       "\n",
       "             Sales    Quantity    Discount       Profit  \n",
       "count   249.000000  249.000000  249.000000   249.000000  \n",
       "mean    391.117068    3.899598   16.959839     1.483102  \n",
       "std     490.115006    2.444950   17.574679   172.709041  \n",
       "min       2.328000    1.000000    0.000000 -1665.052200  \n",
       "25%      53.340000    2.000000    0.000000    -8.579400  \n",
       "50%     207.846000    3.000000   20.000000    10.909600  \n",
       "75%     542.646000    5.000000   20.000000    40.542600  \n",
       "max    3083.430000   14.000000   60.000000   585.552000  "
      ]
     },
     "execution_count": 4,
     "metadata": {},
     "output_type": "execute_result"
    }
   ],
   "source": [
    "data.describe()"
   ]
  },
  {
   "cell_type": "code",
   "execution_count": 14,
   "id": "e3e4da0a",
   "metadata": {},
   "outputs": [],
   "source": [
    "predictors = ['Chairs', 'Tables', 'Bookcases', 'Furnishings','Discount','Sales','Quantity']\n",
    "outcome = 'Profit'"
   ]
  },
  {
   "cell_type": "code",
   "execution_count": 15,
   "id": "8330b8ca",
   "metadata": {},
   "outputs": [],
   "source": [
    "from sklearn.model_selection import train_test_split\n",
    "from sklearn.linear_model import LinearRegression, Lasso, Ridge, LassoCV, BayesianRidge\n",
    "import statsmodels.formula.api as sm\n",
    "import matplotlib.pylab as plt\n",
    "\n",
    "from dmba import regressionSummary, exhaustive_search\n",
    "from dmba import backward_elimination, forward_selection, stepwise_selection\n",
    "from dmba import adjusted_r2_score, AIC_score, BIC_score\n"
   ]
  },
  {
   "cell_type": "code",
   "execution_count": 16,
   "id": "580c146d",
   "metadata": {},
   "outputs": [
    {
     "data": {
      "text/plain": [
       "LinearRegression()"
      ]
     },
     "execution_count": 16,
     "metadata": {},
     "output_type": "execute_result"
    }
   ],
   "source": [
    "X = pd.get_dummies(data[predictors], drop_first=True)\n",
    "y = data[outcome]\n",
    "train_X, test_X, train_y, test_y = train_test_split(X, y, test_size=0.3, random_state=1)\n",
    "\n",
    "data_lm = LinearRegression()\n",
    "data_lm.fit(train_X, train_y)"
   ]
  },
  {
   "cell_type": "code",
   "execution_count": 8,
   "id": "501daa0a",
   "metadata": {},
   "outputs": [
    {
     "data": {
      "text/html": [
       "<div>\n",
       "<style scoped>\n",
       "    .dataframe tbody tr th:only-of-type {\n",
       "        vertical-align: middle;\n",
       "    }\n",
       "\n",
       "    .dataframe tbody tr th {\n",
       "        vertical-align: top;\n",
       "    }\n",
       "\n",
       "    .dataframe thead th {\n",
       "        text-align: right;\n",
       "    }\n",
       "</style>\n",
       "<table border=\"1\" class=\"dataframe\">\n",
       "  <thead>\n",
       "    <tr style=\"text-align: right;\">\n",
       "      <th></th>\n",
       "      <th>Chairs</th>\n",
       "      <th>Tables</th>\n",
       "      <th>Bookcases</th>\n",
       "      <th>Furnishings</th>\n",
       "      <th>Discount</th>\n",
       "      <th>Sales</th>\n",
       "      <th>Quantity</th>\n",
       "    </tr>\n",
       "  </thead>\n",
       "  <tbody>\n",
       "    <tr>\n",
       "      <th>59</th>\n",
       "      <td>0</td>\n",
       "      <td>0</td>\n",
       "      <td>0</td>\n",
       "      <td>1</td>\n",
       "      <td>0</td>\n",
       "      <td>5.280</td>\n",
       "      <td>3</td>\n",
       "    </tr>\n",
       "    <tr>\n",
       "      <th>88</th>\n",
       "      <td>1</td>\n",
       "      <td>0</td>\n",
       "      <td>0</td>\n",
       "      <td>0</td>\n",
       "      <td>20</td>\n",
       "      <td>383.800</td>\n",
       "      <td>5</td>\n",
       "    </tr>\n",
       "    <tr>\n",
       "      <th>239</th>\n",
       "      <td>0</td>\n",
       "      <td>1</td>\n",
       "      <td>0</td>\n",
       "      <td>0</td>\n",
       "      <td>0</td>\n",
       "      <td>455.100</td>\n",
       "      <td>2</td>\n",
       "    </tr>\n",
       "    <tr>\n",
       "      <th>199</th>\n",
       "      <td>1</td>\n",
       "      <td>0</td>\n",
       "      <td>0</td>\n",
       "      <td>0</td>\n",
       "      <td>20</td>\n",
       "      <td>321.568</td>\n",
       "      <td>2</td>\n",
       "    </tr>\n",
       "    <tr>\n",
       "      <th>207</th>\n",
       "      <td>0</td>\n",
       "      <td>1</td>\n",
       "      <td>0</td>\n",
       "      <td>0</td>\n",
       "      <td>40</td>\n",
       "      <td>1090.782</td>\n",
       "      <td>7</td>\n",
       "    </tr>\n",
       "    <tr>\n",
       "      <th>...</th>\n",
       "      <td>...</td>\n",
       "      <td>...</td>\n",
       "      <td>...</td>\n",
       "      <td>...</td>\n",
       "      <td>...</td>\n",
       "      <td>...</td>\n",
       "      <td>...</td>\n",
       "    </tr>\n",
       "    <tr>\n",
       "      <th>137</th>\n",
       "      <td>0</td>\n",
       "      <td>0</td>\n",
       "      <td>0</td>\n",
       "      <td>1</td>\n",
       "      <td>0</td>\n",
       "      <td>14.800</td>\n",
       "      <td>4</td>\n",
       "    </tr>\n",
       "    <tr>\n",
       "      <th>72</th>\n",
       "      <td>1</td>\n",
       "      <td>0</td>\n",
       "      <td>0</td>\n",
       "      <td>0</td>\n",
       "      <td>10</td>\n",
       "      <td>135.882</td>\n",
       "      <td>1</td>\n",
       "    </tr>\n",
       "    <tr>\n",
       "      <th>140</th>\n",
       "      <td>0</td>\n",
       "      <td>0</td>\n",
       "      <td>0</td>\n",
       "      <td>1</td>\n",
       "      <td>20</td>\n",
       "      <td>30.360</td>\n",
       "      <td>5</td>\n",
       "    </tr>\n",
       "    <tr>\n",
       "      <th>235</th>\n",
       "      <td>0</td>\n",
       "      <td>1</td>\n",
       "      <td>0</td>\n",
       "      <td>0</td>\n",
       "      <td>0</td>\n",
       "      <td>343.920</td>\n",
       "      <td>4</td>\n",
       "    </tr>\n",
       "    <tr>\n",
       "      <th>37</th>\n",
       "      <td>1</td>\n",
       "      <td>0</td>\n",
       "      <td>0</td>\n",
       "      <td>0</td>\n",
       "      <td>30</td>\n",
       "      <td>1740.060</td>\n",
       "      <td>9</td>\n",
       "    </tr>\n",
       "  </tbody>\n",
       "</table>\n",
       "<p>174 rows × 7 columns</p>\n",
       "</div>"
      ],
      "text/plain": [
       "     Chairs  Tables  Bookcases  Furnishings  Discount     Sales  Quantity\n",
       "59        0       0          0            1         0     5.280         3\n",
       "88        1       0          0            0        20   383.800         5\n",
       "239       0       1          0            0         0   455.100         2\n",
       "199       1       0          0            0        20   321.568         2\n",
       "207       0       1          0            0        40  1090.782         7\n",
       "..      ...     ...        ...          ...       ...       ...       ...\n",
       "137       0       0          0            1         0    14.800         4\n",
       "72        1       0          0            0        10   135.882         1\n",
       "140       0       0          0            1        20    30.360         5\n",
       "235       0       1          0            0         0   343.920         4\n",
       "37        1       0          0            0        30  1740.060         9\n",
       "\n",
       "[174 rows x 7 columns]"
      ]
     },
     "execution_count": 8,
     "metadata": {},
     "output_type": "execute_result"
    }
   ],
   "source": [
    "train_X"
   ]
  },
  {
   "cell_type": "code",
   "execution_count": 9,
   "id": "c67346e5",
   "metadata": {},
   "outputs": [
    {
     "name": "stdout",
     "output_type": "stream",
     "text": [
      "intercept  141.5903479199593\n",
      "     Predictor  coefficient\n",
      "0       Chairs    58.544924\n",
      "1       Tables    19.061547\n",
      "2    Bookcases   -43.172106\n",
      "3  Furnishings   -34.434366\n",
      "4     Discount    -5.577837\n",
      "5        Sales    -0.108252\n",
      "6     Quantity    -1.051829\n"
     ]
    }
   ],
   "source": [
    "print('intercept ', data_lm.intercept_)\n",
    "print(pd.DataFrame({'Predictor': X.columns, 'coefficient': data_lm.coef_}))\n",
    "\n"
   ]
  },
  {
   "cell_type": "code",
   "execution_count": 11,
   "id": "6c08fde3",
   "metadata": {},
   "outputs": [
    {
     "name": "stdout",
     "output_type": "stream",
     "text": [
      "\n",
      "Regression statistics\n",
      "\n",
      "               Mean Error (ME) : -0.0000\n",
      "Root Mean Squared Error (RMSE) : 150.9421\n",
      "     Mean Absolute Error (MAE) : 91.3752\n"
     ]
    }
   ],
   "source": [
    "regressionSummary(train_y, data_lm.predict(train_X))"
   ]
  },
  {
   "cell_type": "code",
   "execution_count": 18,
   "id": "b3a95fbd",
   "metadata": {},
   "outputs": [
    {
     "name": "stdout",
     "output_type": "stream",
     "text": [
      "adjusted r2 :  0.35379960004684197\n",
      "AIC :  2257.6705344370075\n",
      "BIC :  2286.1020321299384\n"
     ]
    }
   ],
   "source": [
    "pred_y = data_lm.predict(train_X)\n",
    "\n",
    "print('adjusted r2 : ', adjusted_r2_score(train_y, pred_y, data_lm))\n",
    "print('AIC : ', AIC_score(train_y, pred_y, data_lm))\n",
    "print('BIC : ', BIC_score(train_y, pred_y, data_lm))"
   ]
  },
  {
   "cell_type": "code",
   "execution_count": 23,
   "id": "0bf63ffe",
   "metadata": {},
   "outputs": [
    {
     "name": "stdout",
     "output_type": "stream",
     "text": [
      "      Predicted    Actual    Residual\n",
      "67   102.151162   12.8640  -89.287162\n",
      "248   -7.062554   10.6794   17.741954\n",
      "211  103.541122    6.7008  -96.840322\n",
      "161 -136.066127 -167.3184  -31.252273\n",
      "91   101.977958   11.0760  -90.901958\n",
      "223   93.317770   22.7640  -70.553770\n",
      "58  -238.293986   -8.4924  229.801586\n",
      "233   98.770126   11.5800  -87.190126\n",
      "180  100.239425   14.6718  -85.567625\n",
      "4   -145.069717   85.3092  230.378917\n",
      "241   93.200858   33.9388  -59.262058\n",
      "188  101.022788   19.2454  -81.777388\n",
      "116   98.810878    2.3970  -96.413878\n",
      "182   69.079371   64.5180   -4.561371\n",
      "127   63.260562   91.7728   28.512238\n",
      "78    93.640501   20.7328  -72.907701\n",
      "184   98.497714   10.0480  -88.449714\n",
      "51   -35.493135    0.0000   35.493135\n",
      "27    98.908305   18.3456  -80.562705\n",
      "73    -7.183749    0.9995    8.183249\n",
      "224   19.029947  -29.2524  -48.282347\n",
      "34   -18.771660   12.9096   31.681260\n",
      "95   105.789139    1.3677 -104.421439\n",
      "186  -52.326034   12.1176   64.443634\n",
      "120   -9.187716    6.0382   15.225916\n",
      "\n",
      "Regression statistics\n",
      "\n",
      "               Mean Error (ME) : 2.8345\n",
      "Root Mean Squared Error (RMSE) : 134.4654\n",
      "     Mean Absolute Error (MAE) : 87.0681\n"
     ]
    }
   ],
   "source": [
    "data_lm_pred = data_lm.predict(test_X)\n",
    "\n",
    "result = pd.DataFrame({'Predicted': data_lm_pred, 'Actual': test_y,\n",
    "                       'Residual': test_y - data_lm_pred})\n",
    "print(result.head(25))\n",
    "\n",
    "# Compute common accuracy measures\n",
    "regressionSummary(test_y, data_lm_pred)"
   ]
  },
  {
   "cell_type": "code",
   "execution_count": 24,
   "id": "f350a908",
   "metadata": {},
   "outputs": [
    {
     "name": "stdout",
     "output_type": "stream",
     "text": [
      "   n     r2adj          AIC  Bookcases  Chairs  Discount  Furnishings  Quantity  Sales  Tables\n",
      "0  1  0.283309  2269.863759      False   False      True        False     False  False   False\n",
      "1  2  0.327893  2259.673799      False   False      True        False     False   True   False\n",
      "2  3  0.358968  2252.416322      False    True      True        False     False   True   False\n",
      "3  4  0.365045  2251.732375      False    True      True        False     False   True    True\n",
      "4  5  0.361362  2253.705986      False    True      True        False      True   True    True\n",
      "5  6  0.357669  2255.670534       True   False      True         True      True   True    True\n",
      "6  7  0.353800  2257.670534       True    True      True         True      True   True    True\n"
     ]
    }
   ],
   "source": [
    "def train_model(variables):\n",
    "    model = LinearRegression()\n",
    "    model.fit(train_X[variables], train_y)\n",
    "    return model\n",
    "\n",
    "def score_model(model, variables):\n",
    "    pred_y = model.predict(train_X[variables])\n",
    "    # we negate as score is optimized to be as low as possible\n",
    "    return -adjusted_r2_score(train_y, pred_y, model)\n",
    "\n",
    "allVariables = train_X.columns\n",
    "results = exhaustive_search(allVariables, train_model, score_model)\n",
    "\n",
    "data = []\n",
    "for result in results:\n",
    "    model = result['model']\n",
    "    variables = result['variables']\n",
    "    AIC = AIC_score(train_y, model.predict(train_X[variables]), model)\n",
    "    \n",
    "    d = {'n': result['n'], 'r2adj': -result['score'], 'AIC': AIC}\n",
    "    d.update({var: var in result['variables'] for var in allVariables})\n",
    "    data.append(d)\n",
    "pd.set_option('display.width', 100)\n",
    "print(pd.DataFrame(data, columns=('n', 'r2adj', 'AIC') + tuple(sorted(allVariables))))\n",
    "pd.reset_option('display.width')"
   ]
  },
  {
   "cell_type": "code",
   "execution_count": 25,
   "id": "40d0ce53",
   "metadata": {},
   "outputs": [
    {
     "name": "stdout",
     "output_type": "stream",
     "text": [
      "Variables: Chairs, Tables, Bookcases, Furnishings, Discount, Sales, Quantity\n",
      "Start: score=2257.67\n",
      "Step: score=2255.67, remove Chairs\n",
      "Step: score=2253.71, remove Quantity\n",
      "Step: score=2252.99, remove Tables\n",
      "Step: score=2252.99, remove None\n",
      "['Bookcases', 'Furnishings', 'Discount', 'Sales']\n"
     ]
    }
   ],
   "source": [
    "def train_model(variables):\n",
    "    model = LinearRegression()\n",
    "    model.fit(train_X[variables], train_y)\n",
    "    return model\n",
    "\n",
    "def score_model(model, variables):\n",
    "    return AIC_score(train_y, model.predict(train_X[variables]), model)\n",
    "\n",
    "best_model, best_variables = backward_elimination(train_X.columns, train_model, score_model, verbose=True)\n",
    "\n",
    "print(best_variables)"
   ]
  },
  {
   "cell_type": "code",
   "execution_count": null,
   "id": "cbb41cd2",
   "metadata": {},
   "outputs": [],
   "source": []
  },
  {
   "cell_type": "code",
   "execution_count": 27,
   "id": "b47d095e",
   "metadata": {},
   "outputs": [
    {
     "name": "stdout",
     "output_type": "stream",
     "text": [
      "\n",
      "Regression statistics\n",
      "\n",
      "               Mean Error (ME) : 3.7241\n",
      "Root Mean Squared Error (RMSE) : 136.2780\n",
      "     Mean Absolute Error (MAE) : 90.1959\n"
     ]
    }
   ],
   "source": [
    "regressionSummary(test_y, best_model.predict(test_X[best_variables]))"
   ]
  },
  {
   "cell_type": "code",
   "execution_count": 28,
   "id": "3d10f106",
   "metadata": {},
   "outputs": [
    {
     "name": "stdout",
     "output_type": "stream",
     "text": [
      "Variables: Chairs, Tables, Bookcases, Furnishings, Discount, Sales, Quantity\n",
      "Start: score=2326.83, constant\n",
      "Step: score=2269.86, add Discount\n",
      "Step: score=2259.67, add Sales\n",
      "Step: score=2252.42, add Chairs\n",
      "Step: score=2251.73, add Tables\n",
      "Step: score=2251.73, add None\n",
      "['Discount', 'Sales', 'Chairs', 'Tables']\n"
     ]
    }
   ],
   "source": [
    "def train_model(variables):\n",
    "    if len(variables) == 0:\n",
    "        return None\n",
    "    model = LinearRegression()\n",
    "    model.fit(train_X[variables], train_y)\n",
    "    return model\n",
    "\n",
    "def score_model(model, variables):\n",
    "    if len(variables) == 0:\n",
    "        return AIC_score(train_y, [train_y.mean()] * len(train_y), model, df=1)\n",
    "    return AIC_score(train_y, model.predict(train_X[variables]), model)\n",
    "\n",
    "best_model, best_variables = forward_selection(train_X.columns, train_model, score_model, verbose=True)\n",
    "\n",
    "print(best_variables)"
   ]
  },
  {
   "cell_type": "code",
   "execution_count": 29,
   "id": "aa547890",
   "metadata": {},
   "outputs": [
    {
     "name": "stdout",
     "output_type": "stream",
     "text": [
      "Variables: Chairs, Tables, Bookcases, Furnishings, Discount, Sales, Quantity\n",
      "Start: score=2326.83, constant\n",
      "Step: score=2269.86, add Discount\n",
      "Step: score=2259.67, add Sales\n",
      "Step: score=2252.42, add Chairs\n",
      "Step: score=2251.73, add Tables\n",
      "Step: score=2251.73, unchanged None\n",
      "['Discount', 'Sales', 'Chairs', 'Tables']\n"
     ]
    }
   ],
   "source": [
    "best_model, best_variables = stepwise_selection(train_X.columns, train_model, score_model, verbose=True)\n",
    "\n",
    "print(best_variables)"
   ]
  }
 ],
 "metadata": {
  "kernelspec": {
   "display_name": "Python 3",
   "language": "python",
   "name": "python3"
  },
  "language_info": {
   "codemirror_mode": {
    "name": "ipython",
    "version": 3
   },
   "file_extension": ".py",
   "mimetype": "text/x-python",
   "name": "python",
   "nbconvert_exporter": "python",
   "pygments_lexer": "ipython3",
   "version": "3.8.8"
  }
 },
 "nbformat": 4,
 "nbformat_minor": 5
}
